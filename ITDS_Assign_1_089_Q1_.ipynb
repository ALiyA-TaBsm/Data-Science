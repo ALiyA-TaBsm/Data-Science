{
  "cells": [
    {
      "cell_type": "code",
      "source": [
        "# 18th September 2023\n",
        "# CSC461 – Assignment1 – Web Scraping\n",
        "# Aliya Tabassum\n",
        "# FA21-BSE-089 C\n",
        "# The code is extracting the Titles and Ratings of five of my favourite Movies from imdb webPage and exporting it to an excel sheet named as Assign_1_ExcelFile\n"
      ],
      "metadata": {
        "id": "pJg3_4-AM6VT"
      },
      "execution_count": null,
      "outputs": []
    },
    {
      "cell_type": "code",
      "execution_count": null,
      "metadata": {
        "id": "oZJlQodbvslk"
      },
      "outputs": [],
      "source": [
        "import requests\n",
        "from bs4 import BeautifulSoup\n",
        "import pandas"
      ]
    },
    {
      "cell_type": "code",
      "execution_count": null,
      "metadata": {
        "id": "9drJkahX3x8_"
      },
      "outputs": [],
      "source": [
        "url = ['https://www.imdb.com/title/tt1285016/' , 'https://www.imdb.com/title/tt0353969/' , 'https://www.imdb.com/title/tt0264464/' , 'https://www.imdb.com/title/tt1615147/' , 'https://www.imdb.com/title/tt1596363/']\n",
        "headers = {'User-Agent': 'Mozilla/5.0 (Macintosh; Intel Mac OS X 10_10_1) AppleWebKit/537.36 (KHTML, like Gecko) Chrome/39.0.2171.95 Safari/537.36'}"
      ]
    },
    {
      "cell_type": "code",
      "execution_count": null,
      "metadata": {
        "id": "HJbobPNS4O1T"
      },
      "outputs": [],
      "source": [
        "url_data = []\n",
        "for i in range(len(url)):\n",
        "  response = requests.get(url[i], headers=headers)\n",
        "  soup = BeautifulSoup(response.text,'html.parser' )\n",
        "  url_data.append(soup)\n",
        "url_data\n"
      ]
    },
    {
      "cell_type": "code",
      "execution_count": 70,
      "metadata": {
        "colab": {
          "base_uri": "https://localhost:8080/"
        },
        "id": "ZzsgNkyv4zBx",
        "outputId": "255d4614-71c9-472f-ae2b-af0e9062a314"
      },
      "outputs": [
        {
          "output_type": "execute_result",
          "data": {
            "text/plain": [
              "[['The Social Network', '7.8'],\n",
              " ['Memories of Murder', '8.1'],\n",
              " ['Catch Me If You Can', '8.1'],\n",
              " ['Margin Call', '7.1'],\n",
              " ['The Big Short', '7.8']]"
            ]
          },
          "metadata": {},
          "execution_count": 70
        }
      ],
      "source": [
        "data = []\n",
        "for j in url_data:\n",
        "  title = j.select('main h1')[0].text\n",
        "  rating = j.select('main > div > section > section > div > section > section a > span > div > div > div >span:first-child ')[0].text\n",
        "  data.append([title,rating])\n",
        "data\n"
      ]
    },
    {
      "cell_type": "code",
      "execution_count": 71,
      "metadata": {
        "id": "k-dwoHyT5l42"
      },
      "outputs": [],
      "source": [
        "ex_file = pandas.DataFrame(data)\n",
        "custom_header = ['Title' , 'Rating']\n",
        "ex_file.to_excel('Assign_1_ExcelFile.xlsx',index = False , header = custom_header)\n"
      ]
    },
    {
      "cell_type": "code",
      "execution_count": 72,
      "metadata": {
        "id": "zCjLg7U1NVy9",
        "colab": {
          "base_uri": "https://localhost:8080/"
        },
        "outputId": "ebbcaab7-2e71-4f93-cec1-036e1308ad02"
      },
      "outputs": [
        {
          "output_type": "stream",
          "name": "stdout",
          "text": [
            "                 Title  Rating\n",
            "0   The Social Network     7.8\n",
            "1   Memories of Murder     8.1\n",
            "2  Catch Me If You Can     8.1\n",
            "3          Margin Call     7.1\n",
            "4        The Big Short     7.8\n"
          ]
        }
      ],
      "source": []
    }
  ],
  "metadata": {
    "colab": {
      "provenance": [],
      "toc_visible": true
    },
    "kernelspec": {
      "display_name": "Python 3",
      "name": "python3"
    },
    "language_info": {
      "name": "python"
    }
  },
  "nbformat": 4,
  "nbformat_minor": 0
}