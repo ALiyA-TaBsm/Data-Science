{
  "cells": [
    {
      "cell_type": "code",
      "source": [
        "# 18th September 2023\n",
        "# CSC461 – Assignment1 – Web Scraping\n",
        "# Aliya Tabassum\n",
        "# FA21-BSE-089 C\n",
        "# The code that is extracting the information of the people that share my birthdate (18th March) with me from timeanddate.com and the events that occured on this date from britannica.com and exporting it to a text file named as Assign1_Q2_data\n"
      ],
      "metadata": {
        "id": "rmiczRFMAKqB"
      },
      "execution_count": null,
      "outputs": []
    },
    {
      "cell_type": "code",
      "execution_count": null,
      "metadata": {
        "id": "jMlkaRs-NKmt"
      },
      "outputs": [],
      "source": [
        "import requests\n",
        "from bs4 import BeautifulSoup\n",
        "import pandas"
      ]
    },
    {
      "cell_type": "code",
      "execution_count": null,
      "metadata": {
        "id": "CU2FHMw8Nqzx"
      },
      "outputs": [],
      "source": [
        "timeanddate_url = 'https://www.timeanddate.com/on-this-day/january/9'\n",
        "britannica_url = 'https://www.britannica.com/on-this-day/January-9'"
      ]
    },
    {
      "cell_type": "code",
      "execution_count": null,
      "metadata": {
        "id": "S50mBZFGOtQy"
      },
      "outputs": [],
      "source": [
        "response_of_timeanddate = requests.get(timeanddate_url)\n",
        "response_of_britannica = requests.get(britannica_url)\n",
        "\n",
        "timeanddate_soup = BeautifulSoup(response_of_timeanddate.text, 'html.parser')\n",
        "britannica_soup = BeautifulSoup(response_of_britannica.text, 'html.parser')\n"
      ]
    },
    {
      "cell_type": "code",
      "execution_count": 63,
      "metadata": {
        "id": "tAWGr7A5O9U8"
      },
      "outputs": [],
      "source": [
        "url_data = []\n",
        "url_data.append('Births on this(9 january) Date' + '\\n\\n')\n",
        "div_element_1 = timeanddate_soup.find('div', class_= 'otd-life__block')\n",
        "ul_element_1 = div_element_1.find('ul' , class_= 'list--big')\n",
        "li_element_1 = ul_element_1.find_all ('li')\n",
        "for i in li_element_1:\n",
        "  name = i.h3.text\n",
        "  url_data.append(name)\n"
      ]
    },
    {
      "cell_type": "code",
      "execution_count": 66,
      "metadata": {
        "id": "6iXkr_ygQyGs"
      },
      "outputs": [],
      "source": [
        "url_data.append('\\n\\n' + 'Events Occur on this(9 January) Date' + '\\n\\n')\n",
        "div_element_2 = britannica_soup.find('div',class_='featured-event-card card')\n",
        "div_title_element_2 = div_element_2.find('div' , class_='title font-18 font-weight-bold mb-10').text\n",
        "div_desc_element_2 = div_element_2.find('div' , class_='description font-serif').text\n",
        "url_data.append(div_title_element_2 + div_desc_element_2 + '\\n\\n')\n",
        "div_element_3 = britannica_soup.find_all('div',class_= 'md-history-event card d-flex mb-20 flex-column flex-sm-row')\n",
        "for j in div_element_3:\n",
        "    div_year_element_3 = j.find ('div', class_= 'date-label').text.strip()\n",
        "    div_desc_element_3 = j.find ('div', class_= 'card-body font-serif').text.strip()\n",
        "    url_data.append(div_year_element_3 + '\\n' + div_desc_element_3 + '\\n\\n')\n",
        "\n"
      ]
    },
    {
      "cell_type": "code",
      "source": [
        "txt_file = pandas.DataFrame(url_data)\n",
        "txt_file.to_csv('Assign1_data.txt', index=False)"
      ],
      "metadata": {
        "id": "MabCfP9GLFct"
      },
      "execution_count": 67,
      "outputs": []
    }
  ],
  "metadata": {
    "colab": {
      "provenance": []
    },
    "kernelspec": {
      "display_name": "Python 3",
      "name": "python3"
    },
    "language_info": {
      "name": "python"
    }
  },
  "nbformat": 4,
  "nbformat_minor": 0
}